{
 "cells": [
  {
   "cell_type": "code",
   "execution_count": 1,
   "metadata": {
    "collapsed": false
   },
   "outputs": [],
   "source": [
    "import Lib.Load as ld\n",
    "import Lib.Transformations as tr\n",
    "import Lib.Metrics as mt\n",
    "import Lib.Modularity as mod\n",
    "import Lib.SDP as sdp\n",
    "import Lib.MinCut as mc\n",
    "#import Lib.NCG as ncg\n",
    "import numpy as np\n",
    "import pandas as pd"
   ]
  },
  {
   "cell_type": "code",
   "execution_count": 2,
   "metadata": {
    "collapsed": false
   },
   "outputs": [
    {
     "ename": "ImportError",
     "evalue": "cannot import name inf",
     "output_type": "error",
     "traceback": [
      "\u001b[1;31m---------------------------------------------------------------------------\u001b[0m",
      "\u001b[1;31mImportError\u001b[0m                               Traceback (most recent call last)",
      "\u001b[1;32m<ipython-input-2-1f4f7c577bd2>\u001b[0m in \u001b[0;36m<module>\u001b[1;34m()\u001b[0m\n\u001b[1;32m----> 1\u001b[1;33m \u001b[1;32mfrom\u001b[0m \u001b[0mmath\u001b[0m \u001b[1;32mimport\u001b[0m \u001b[0minf\u001b[0m\u001b[1;33m\u001b[0m\u001b[0m\n\u001b[0m",
      "\u001b[1;31mImportError\u001b[0m: cannot import name inf"
     ]
    }
   ],
   "source": [
    "from math import inf"
   ]
  },
  {
   "cell_type": "code",
   "execution_count": 2,
   "metadata": {
    "collapsed": true
   },
   "outputs": [],
   "source": [
    "def test_methods(test):\n",
    "    \n",
    "    n_nodes, edge_list = ld.download_graph(test)\n",
    "    A = tr.compute_adj_mat(n_nodes, edge_list)\n",
    "    labels_true = ld.download_labels(test)\n",
    "    k = np.max(np.array(labels_true)) + 1\n",
    "    \n",
    "    # MinCut test\n",
    "    labels_pred = mc.unnorm_predict(A, k)\n",
    "    print(compute_scores(labels_true, labels_pred, edge_list))\n",
    "    #nmi, recall, precision, modularity, avg_f1, norm_cut = compute_scores(labels_true, labels_pred, edge_list)\n",
    "    \n",
    "    labels_pred = mc.lrw_predict(A, k)\n",
    "    print(compute_scores(labels_true, labels_pred, edge_list))\n",
    "    \n",
    "    labels_pred = mc.lsym_predict(A, k)\n",
    "    print(compute_scores(labels_true, labels_pred, edge_list))\n",
    "    \n",
    "    # Modularity test\n",
    "    labels_pred = mod.Newman(n_nodes, A)\n",
    "    print(compute_scores(labels_true, labels_pred, edge_list))\n",
    "    \n",
    "    # NCG test\n",
    "    \n",
    "    # SDP test\n",
    "    labels_pred = sdp.SDP1(n_nodes, A, k)\n",
    "    print(compute_scores(labels_true, labels_pred, edge_list))\n",
    "    \n",
    "    labels_pred = sdp.SDP2(n_nodes, A, k)\n",
    "    print(compute_scores(labels_true, labels_pred, edge_list))\n",
    "    \n",
    "    return"
   ]
  },
  {
   "cell_type": "code",
   "execution_count": 3,
   "metadata": {
    "collapsed": true
   },
   "outputs": [],
   "source": [
    "def compute_scores(labels_true, labels_pred, edge_list):\n",
    "    \n",
    "    clusters_true = tr.compute_clusters_from_labels(labels_true)\n",
    "    clusters_pred = tr.compute_clusters_from_labels(labels_pred)\n",
    "    \n",
    "    nmi = mt.compute_nmi(labels_true, labels_pred)\n",
    "    recall = mt.compute_recall(clusters_true, clusters_pred)\n",
    "    precision = mt.compute_precision(clusters_true, clusters_pred)\n",
    "    modularity = mt.compute_modularity(labels_pred, edge_list)\n",
    "    avg_f1 = mt.compute_avg_f1(clusters_true, clusters_pred)\n",
    "    norm_cut = mt.compute_normalized_cut(labels_pred, clusters_pred, edge_list)\n",
    "    \n",
    "    return nmi, recall, precision, modularity, avg_f1, norm_cut"
   ]
  },
  {
   "cell_type": "code",
   "execution_count": 4,
   "metadata": {
    "collapsed": false
   },
   "outputs": [
    {
     "name": "stdout",
     "output_type": "stream",
     "text": [
      "34\n",
      "(0.45500160001454476, 0.8125, 0.875, 0.23397435897435892, 0.8131868131868132, 0.37606837606837606)\n",
      "34\n",
      "(0.31361726371083598, 0.71875, 0.8333333333333333, 0.19255424063116366, 0.7043478260869566, 0.4227642276422764)\n",
      "34\n",
      "(0.83650408890559136, 0.96875, 0.9736842105263157, 0.35996055226824464, 0.970357454228422, 0.26262626262626265)\n",
      "34\n",
      "(0.83717011721869428, 0.9722222222222222, 0.9705882352941176, 0.3717948717948718, 0.9705627705627706, 0.2564102564102564)\n",
      "34\n",
      "(0.80951069795655595, 0.7777777777777778, 1.0, 0.23274161735700194, 0.8168498168498168, 1.5798548094373865)\n",
      "34\n",
      "(0.68401465124845451, 0.9131944444444444, 0.9411764705882353, 0.34459237343852733, 0.7905525846702317, 1.3111787586673431)\n"
     ]
    }
   ],
   "source": [
    "test_methods('karate')"
   ]
  },
  {
   "cell_type": "code",
   "execution_count": 5,
   "metadata": {
    "collapsed": true
   },
   "outputs": [],
   "source": [
    "tests = ['football', 'karate', 'polbooks', 'sbm']\n",
    "scores = pd.DataFrame()"
   ]
  },
  {
   "cell_type": "code",
   "execution_count": 7,
   "metadata": {
    "collapsed": false
   },
   "outputs": [
    {
     "name": "stdout",
     "output_type": "stream",
     "text": [
      "Empty DataFrame\n",
      "Columns: []\n",
      "Index: []\n"
     ]
    }
   ],
   "source": [
    "print scores"
   ]
  },
  {
   "cell_type": "code",
   "execution_count": 8,
   "metadata": {
    "collapsed": false
   },
   "outputs": [
    {
     "data": {
      "text/plain": [
       "3"
      ]
     },
     "execution_count": 8,
     "metadata": {},
     "output_type": "execute_result"
    }
   ],
   "source": [
    "max([1,2,3])"
   ]
  },
  {
   "cell_type": "code",
   "execution_count": null,
   "metadata": {
    "collapsed": true
   },
   "outputs": [],
   "source": []
  }
 ],
 "metadata": {
  "anaconda-cloud": {},
  "kernelspec": {
   "display_name": "Python 2",
   "language": "python",
   "name": "python2"
  },
  "language_info": {
   "codemirror_mode": {
    "name": "ipython",
    "version": 2
   },
   "file_extension": ".py",
   "mimetype": "text/x-python",
   "name": "python",
   "nbconvert_exporter": "python",
   "pygments_lexer": "ipython2",
   "version": "2.7.12"
  }
 },
 "nbformat": 4,
 "nbformat_minor": 1
}
