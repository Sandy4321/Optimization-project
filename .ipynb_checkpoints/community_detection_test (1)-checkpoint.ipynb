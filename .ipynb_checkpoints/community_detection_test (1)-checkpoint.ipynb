{
 "cells": [
  {
   "cell_type": "code",
   "execution_count": 1,
   "metadata": {
    "collapsed": false
   },
   "outputs": [
    {
     "ename": "ImportError",
     "evalue": "cannot import name inf",
     "output_type": "error",
     "traceback": [
      "\u001b[1;31m---------------------------------------------------------------------------\u001b[0m",
      "\u001b[1;31mImportError\u001b[0m                               Traceback (most recent call last)",
      "\u001b[1;32m<ipython-input-1-7e2fcf562444>\u001b[0m in \u001b[0;36m<module>\u001b[1;34m()\u001b[0m\n\u001b[0;32m      5\u001b[0m \u001b[1;32mimport\u001b[0m \u001b[0mLib\u001b[0m\u001b[1;33m.\u001b[0m\u001b[0mSDP\u001b[0m \u001b[1;32mas\u001b[0m \u001b[0msdp\u001b[0m\u001b[1;33m\u001b[0m\u001b[0m\n\u001b[0;32m      6\u001b[0m \u001b[1;32mimport\u001b[0m \u001b[0mLib\u001b[0m\u001b[1;33m.\u001b[0m\u001b[0mMinCut\u001b[0m \u001b[1;32mas\u001b[0m \u001b[0mmc\u001b[0m\u001b[1;33m\u001b[0m\u001b[0m\n\u001b[1;32m----> 7\u001b[1;33m \u001b[1;32mimport\u001b[0m \u001b[0mLib\u001b[0m\u001b[1;33m.\u001b[0m\u001b[0mNCG\u001b[0m \u001b[1;32mas\u001b[0m \u001b[0mncg\u001b[0m\u001b[1;33m\u001b[0m\u001b[0m\n\u001b[0m\u001b[0;32m      8\u001b[0m \u001b[1;32mimport\u001b[0m \u001b[0mnumpy\u001b[0m \u001b[1;32mas\u001b[0m \u001b[0mnp\u001b[0m\u001b[1;33m\u001b[0m\u001b[0m\n\u001b[0;32m      9\u001b[0m \u001b[1;32mimport\u001b[0m \u001b[0mpandas\u001b[0m \u001b[1;32mas\u001b[0m \u001b[0mpd\u001b[0m\u001b[1;33m\u001b[0m\u001b[0m\n",
      "\u001b[1;32mC:\\Users\\Igor\\Desktop\\SkolTech\\Term2_Lempitsky_Optimization\\Optimization-project\\Lib\\NCG.py\u001b[0m in \u001b[0;36m<module>\u001b[1;34m()\u001b[0m\n\u001b[0;32m     12\u001b[0m \u001b[1;32mimport\u001b[0m \u001b[0mscipy\u001b[0m \u001b[1;32mas\u001b[0m \u001b[0msc\u001b[0m\u001b[1;33m\u001b[0m\u001b[0m\n\u001b[0;32m     13\u001b[0m \u001b[1;32mfrom\u001b[0m \u001b[0mscipy\u001b[0m \u001b[1;32mimport\u001b[0m \u001b[0mspecial\u001b[0m\u001b[1;33m\u001b[0m\u001b[0m\n\u001b[1;32m---> 14\u001b[1;33m \u001b[1;32mfrom\u001b[0m \u001b[0mmath\u001b[0m \u001b[1;32mimport\u001b[0m \u001b[0minf\u001b[0m\u001b[1;33m\u001b[0m\u001b[0m\n\u001b[0m\u001b[0;32m     15\u001b[0m \u001b[1;32mfrom\u001b[0m \u001b[0mmath\u001b[0m \u001b[1;32mimport\u001b[0m \u001b[0misnan\u001b[0m\u001b[1;33m\u001b[0m\u001b[0m\n\u001b[0;32m     16\u001b[0m \u001b[1;33m\u001b[0m\u001b[0m\n",
      "\u001b[1;31mImportError\u001b[0m: cannot import name inf"
     ]
    }
   ],
   "source": [
    "import Lib.Load as ld\n",
    "import Lib.Transformations as tr\n",
    "import Lib.Metrics as mt\n",
    "import Lib.Modularity as mod\n",
    "import Lib.SDP as sdp\n",
    "import Lib.MinCut as mc\n",
    "import Lib.NCG as ncg\n",
    "import numpy as np\n",
    "import pandas as pd\n",
    "import seaborn as sns\n",
    "import matplotlib.pyplot as plt\n",
    "\n",
    "%matplotlib inline"
   ]
  },
  {
   "cell_type": "code",
   "execution_count": null,
   "metadata": {
    "collapsed": false
   },
   "outputs": [],
   "source": [
    "def test_methods(test):\n",
    "    \n",
    "    sc_name = ['NMI', 'Recall', 'Precision', 'Modularity', 'Average F1', 'Normalized Cut']\n",
    "    #methods = ['Unnormalized', 'RW', 'Symmetric', 'Newman', 'NCG', 'SDP1', 'SDP2']\n",
    "    methods = ['Unnormalized', 'RW', 'Symmetric', 'Newman', 'NCG']\n",
    "    \n",
    "    scores = np.empty((0, len(sc_name)))\n",
    "    \n",
    "    n_nodes, edge_list = ld.download_graph(test)\n",
    "    A = tr.compute_adj_mat(n_nodes, edge_list)\n",
    "    labels_true = ld.download_labels(test)\n",
    "    k = np.max(np.array(labels_true)) + 1\n",
    "    \n",
    "    # MinCut test\n",
    "    labels_pred = mc.unnorm_predict(A, k)\n",
    "    result = compute_scores(labels_true, labels_pred, edge_list)\n",
    "    scores = np.concatenate([scores, result], axis=0)\n",
    "    \n",
    "    labels_pred = mc.lrw_predict(A, k)\n",
    "    result = compute_scores(labels_true, labels_pred, edge_list)\n",
    "    scores = np.concatenate([scores, result], axis=0)\n",
    "    \n",
    "    labels_pred = mc.lsym_predict(A, k)\n",
    "    result = compute_scores(labels_true, labels_pred, edge_list)\n",
    "    scores = np.concatenate([scores, result], axis=0)\n",
    "    \n",
    "    # Modularity test\n",
    "    labels_pred = mod.Newman(n_nodes, A)\n",
    "    result = compute_scores(labels_true, labels_pred, edge_list)\n",
    "    scores = np.concatenate([scores, result], axis=0)\n",
    "    \n",
    "    # NCG test\n",
    "    labels_pred = ncg.NCG(n_nodes, edge_list, k)\n",
    "    result = compute_scores(labels_true, labels_pred, edge_list)\n",
    "    scores = np.concatenate([scores, result], axis=0)\n",
    "    \n",
    "    scores = pd.DataFrame(scores, index=methods, columns=sc_name)\n",
    "    \n",
    "    for i in range(len(sc_name)):\n",
    "        sns_plot = sns.barplot(x=methods, y=sc_name[i],data=scores)\n",
    "        fig = sns_plot.get_figure()\n",
    "        fig.savefig(test + '_' + sc_name[i])\n",
    "        \n",
    "    return scores"
   ]
  },
  {
   "cell_type": "code",
   "execution_count": null,
   "metadata": {
    "collapsed": true
   },
   "outputs": [],
   "source": [
    "def compute_scores(labels_true, labels_pred, edge_list):\n",
    "    \n",
    "    clusters_true = tr.compute_clusters_from_labels(labels_true)\n",
    "    clusters_pred = tr.compute_clusters_from_labels(labels_pred)\n",
    "    \n",
    "    nmi = mt.compute_nmi(labels_true, labels_pred)\n",
    "    recall = mt.compute_recall(clusters_true, clusters_pred)\n",
    "    precision = mt.compute_precision(clusters_true, clusters_pred)\n",
    "    modularity = mt.compute_modularity(labels_pred, edge_list)\n",
    "    avg_f1 = mt.compute_avg_f1(clusters_true, clusters_pred)\n",
    "    norm_cut = mt.compute_normalized_cut(labels_pred, clusters_pred, edge_list)\n",
    "    \n",
    "    return np.array([[nmi, recall, precision, modularity, avg_f1, norm_cut]])"
   ]
  },
  {
   "cell_type": "code",
   "execution_count": null,
   "metadata": {
    "collapsed": false
   },
   "outputs": [],
   "source": [
    "tests = ['football', 'karate', 'polbooks', 'sbm']\n",
    "for i in range(1):\n",
    "    scores = test_methods(tests[i])\n",
    "    print(scores)"
   ]
  },
  {
   "cell_type": "code",
   "execution_count": null,
   "metadata": {
    "collapsed": true
   },
   "outputs": [],
   "source": []
  }
 ],
 "metadata": {
  "anaconda-cloud": {},
  "kernelspec": {
   "display_name": "Python 2",
   "language": "python",
   "name": "python2"
  },
  "language_info": {
   "codemirror_mode": {
    "name": "ipython",
    "version": 2
   },
   "file_extension": ".py",
   "mimetype": "text/x-python",
   "name": "python",
   "nbconvert_exporter": "python",
   "pygments_lexer": "ipython2",
   "version": "2.7.12"
  }
 },
 "nbformat": 4,
 "nbformat_minor": 1
}
