{
 "cells": [
  {
   "cell_type": "code",
   "execution_count": 1,
   "metadata": {
    "collapsed": false
   },
   "outputs": [],
   "source": [
    "import numpy as np\n",
    "\n",
    "from Lib.Load import download_graph, download_labels, save_graph, save_labels\n",
    "from Lib.Metrics import compute_nmi, compute_recall, compute_precision, compute_avg_f1, compute_modularity, compute_normalized_cut\n",
    "from Lib.Transformations import compute_clusters_from_labels, compute_adj_mat\n",
    "from Lib.Algorithms import SDP"
   ]
  },
  {
   "cell_type": "code",
   "execution_count": 2,
   "metadata": {
    "collapsed": false
   },
   "outputs": [],
   "source": [
    "n_nodes, edge_list = download_graph('sbm')\n",
    "A = compute_adj_mat(n_nodes, edge_list)\n",
    "\n",
    "labels_true = download_labels('sbm')\n",
    "clusters_true = compute_clusters_from_labels(labels_true)\n",
    "\n",
    "labels_pred = SDP(n_nodes, A, 3)\n",
    "clusters_pred = compute_clusters_from_labels(labels_pred)"
   ]
  },
  {
   "cell_type": "code",
   "execution_count": 3,
   "metadata": {
    "collapsed": false
   },
   "outputs": [
    {
     "name": "stdout",
     "output_type": "stream",
     "text": [
      "NMI =  0.451436647926\n",
      "Recall =  0.0666666666667\n",
      "Precision =  1.0\n",
      "F1 =  0.125\n",
      "Modularity =  -0.034980486685\n",
      "Norm. cut =  30.0\n"
     ]
    }
   ],
   "source": [
    "print \"NMI = \", compute_nmi(labels_true, labels_pred)\n",
    "print \"Recall = \", compute_recall(clusters_true, clusters_pred)\n",
    "print \"Precision = \", compute_precision(clusters_true, clusters_pred)\n",
    "print \"F1 = \", compute_avg_f1(clusters_true, clusters_pred)\n",
    "print \"Modularity = \", compute_modularity(labels_pred, edge_list)\n",
    "print \"Norm. cut = \", compute_normalized_cut(labels_pred, clusters_pred, edge_list)"
   ]
  },
  {
   "cell_type": "code",
   "execution_count": null,
   "metadata": {
    "collapsed": true
   },
   "outputs": [],
   "source": []
  },
  {
   "cell_type": "code",
   "execution_count": null,
   "metadata": {
    "collapsed": true
   },
   "outputs": [],
   "source": []
  },
  {
   "cell_type": "code",
   "execution_count": null,
   "metadata": {
    "collapsed": true
   },
   "outputs": [],
   "source": []
  },
  {
   "cell_type": "code",
   "execution_count": 2,
   "metadata": {
    "collapsed": false
   },
   "outputs": [],
   "source": [
    "n_nodes = 30\n",
    "p_in = 0.45\n",
    "p_out = 0.15\n",
    "Q = np.array([[p_in, p_out], [p_out, p_in]])\n",
    "z = [0] * (n_nodes / 2) + [1] * (n_nodes / 2)\n",
    "A = np.zeros([n_nodes, n_nodes])\n",
    "for i in xrange(n_nodes):\n",
    "    for j in xrange(n_nodes):\n",
    "        A[i, j] = np.random.binomial(1, Q[z[i], z[j]], 1) \n",
    "        A[j, i] = A[i, j]\n",
    "    A[i, i] = 0\n",
    "\n",
    "save_graph(A, 'sbm')\n",
    "save_labels(z, 'sbm_labels')\n"
   ]
  }
 ],
 "metadata": {
  "kernelspec": {
   "display_name": "Python 2",
   "language": "python",
   "name": "python2"
  },
  "language_info": {
   "codemirror_mode": {
    "name": "ipython",
    "version": 2
   },
   "file_extension": ".py",
   "mimetype": "text/x-python",
   "name": "python",
   "nbconvert_exporter": "python",
   "pygments_lexer": "ipython2",
   "version": "2.7.12"
  }
 },
 "nbformat": 4,
 "nbformat_minor": 0
}
