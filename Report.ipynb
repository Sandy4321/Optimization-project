{
 "cells": [
  {
   "cell_type": "code",
   "execution_count": 1,
   "metadata": {
    "collapsed": false
   },
   "outputs": [],
   "source": [
    "import numpy as np\n",
    "\n",
    "from Lib.Load import download_graph, download_labels, save_graph, save_labels\n",
    "from Lib.Metrics import compute_nmi, compute_recall, compute_precision, compute_avg_f1, compute_modularity, compute_normalized_cut\n",
    "from Lib.Transformations import compute_clusters_from_labels, compute_adj_mat\n",
    "from Lib.SDP import SDP1, SDP2\n",
    "from Lib.Modularity import Newman"
   ]
  },
  {
   "cell_type": "code",
   "execution_count": 7,
   "metadata": {
    "collapsed": true
   },
   "outputs": [
    {
     "name": "stdout",
     "output_type": "stream",
     "text": [
      "0.00225214802474 103 104\n",
      "0.00445801903528 67 103\n",
      "0.00222900951764 15 16\n",
      "0.00422663396424 10 15\n",
      "0.0054426910598 3 10\n",
      "0.00406209346928 3 55\n",
      "0.00615998478 3 19\n",
      "0.00553524508821 3 12\n",
      "0.0039181205362 3 18\n",
      "0.00445544809004 3 6\n",
      "0.00356847198441 1 3\n",
      "0.00529100529101 0 1\n",
      "0.00719864665443 0 5\n",
      "0.00451972172089 0 4\n",
      "0.00557895115718 0 2\n",
      "0.00427291097845 0 7\n",
      "0.00377157665787 0 14\n",
      "0.00500305942483 0 25\n",
      "0.0041932116762 0 22\n",
      "0.00430376232126 0 11\n",
      "0.0050544783295 0 29\n",
      "0.00456599873509 0 17\n",
      "0.00535527892185 0 13\n",
      "0.00433461366406 0 21\n",
      "0.00547868429307 0 8\n",
      "0.003948971879 0 32\n",
      "0.00608542736823 0 23\n",
      "0.00587718080429 0 33\n",
      "0.00365331317712 0 44\n",
      "0.0032856680087 0 26\n",
      "0.00388726919339 0 40\n",
      "0.00532185663381 0 47\n",
      "0.00678729541703 0 45\n",
      "0.00664075153871 0 24\n",
      "0.00643250497478 0 27\n",
      "0.00728605879238 0 9\n",
      "0.00671530895049 0 41\n",
      "0.00831443688587 0 54\n",
      "0.00463284331117 0 20\n",
      "0.00445544809004 0 53\n",
      "0.00345535039413 0 42\n",
      "0.0037278705889 0 39\n",
      "0.00291545189504 0 46\n",
      "0.00222643857241 61 95\n",
      "0.00221615479147 43 56\n",
      "0.00249895876718 0 43\n",
      "0.00355304631301 0 35\n",
      "0.00412122520966 0 37\n",
      "0.00626282258935 0 38\n",
      "0.0037355834246 0 34\n",
      "0.0059388834899 0 36\n",
      "0.00221615479147 48 57\n",
      "0.00435003933546 48 49\n",
      "0.00221615479147 59 63\n",
      "0.00439631634967 59 60\n",
      "0.0065713360174 59 62\n",
      "0.00842241658568 59 99\n",
      "0.00485137365604 59 84\n",
      "0.00507504589137 59 100\n",
      "0.00435518122593 59 86\n",
      "0.00574863354261 59 101\n",
      "0.00501334320576 59 61\n",
      "0.00620883273944 59 73\n",
      "0.0069826872548 59 94\n",
      "0.00717293720209 59 96\n",
      "0.00708038317368 59 97\n",
      "0.00858438613541 59 66\n",
      "0.0085303962855 59 93\n",
      "0.006555910346 59 89\n",
      "0.00506476211044 59 81\n",
      "0.0050236269867 59 102\n",
      "0.00452743455659 59 88\n",
      "0.00424720152611 30 59\n",
      "0.00529614718147 30 74\n",
      "0.00458656629696 30 79\n",
      "0.00535784986708 30 72\n",
      "0.00559951871905 30 82\n",
      "0.00530128907194 30 75\n",
      "0.00674873123853 30 76\n",
      "0.00772311948211 30 83\n",
      "0.00907029478458 30 71\n",
      "0.0058926064757 30 80\n",
      "0.00570492747363 30 70\n",
      "0.00495678241062 30 78\n",
      "0.00668188666245 30 31\n",
      "0.00669474138862 30 91\n",
      "0.00691584267872 30 90\n",
      "0.00505704927474 30 77\n",
      "0.00449401226855 30 87\n",
      "0.00669731233385 30 98\n",
      "0.00397982322181 30 92\n",
      "0.0021955872296 65 68\n",
      "0.00428062381415 64 65\n",
      "0.00613427532767 58 64\n",
      "0.00637851512487 58 69\n",
      "0.00848411927129 51 58\n",
      "0.00623711313702 51 52\n",
      "0.00541698160746 51 67\n",
      "0.00376386382217 51 85\n",
      "0.00176623937557 50 51\n",
      "0.00168911101856 28 30\n",
      "-0.000704438994041 48 50\n",
      "-0.0540824039366 28 48\n",
      "-0.447187643009 0 28\n"
     ]
    }
   ],
   "source": [
    "n_nodes, edge_list = download_graph('polbooks')\n",
    "A = compute_adj_mat(n_nodes, edge_list)\n",
    "\n",
    "labels_true = download_labels('polbooks')\n",
    "clusters_true = compute_clusters_from_labels(labels_true)\n",
    "\n",
    "labels_pred = Newman(n_nodes, A)\n",
    "clusters_pred = compute_clusters_from_labels(labels_pred)"
   ]
  },
  {
   "cell_type": "code",
   "execution_count": 8,
   "metadata": {
    "collapsed": false
   },
   "outputs": [
    {
     "data": {
      "text/plain": [
       "105"
      ]
     },
     "execution_count": 8,
     "metadata": {},
     "output_type": "execute_result"
    }
   ],
   "source": [
    "n_nodes"
   ]
  },
  {
   "cell_type": "code",
   "execution_count": 9,
   "metadata": {
    "collapsed": true
   },
   "outputs": [
    {
     "data": {
      "text/plain": [
       "[[0,\n",
       "  1,\n",
       "  2,\n",
       "  3,\n",
       "  4,\n",
       "  5,\n",
       "  6,\n",
       "  7,\n",
       "  8,\n",
       "  9,\n",
       "  10,\n",
       "  11,\n",
       "  12,\n",
       "  13,\n",
       "  14,\n",
       "  15,\n",
       "  16,\n",
       "  17,\n",
       "  18,\n",
       "  19,\n",
       "  20,\n",
       "  21,\n",
       "  22,\n",
       "  23,\n",
       "  24,\n",
       "  25,\n",
       "  26,\n",
       "  27,\n",
       "  29,\n",
       "  32,\n",
       "  33,\n",
       "  34,\n",
       "  35,\n",
       "  36,\n",
       "  37,\n",
       "  38,\n",
       "  39,\n",
       "  40,\n",
       "  41,\n",
       "  42,\n",
       "  43,\n",
       "  44,\n",
       "  45,\n",
       "  46,\n",
       "  47,\n",
       "  53,\n",
       "  54,\n",
       "  55,\n",
       "  56],\n",
       " [28,\n",
       "  30,\n",
       "  31,\n",
       "  48,\n",
       "  49,\n",
       "  50,\n",
       "  51,\n",
       "  52,\n",
       "  57,\n",
       "  58,\n",
       "  59,\n",
       "  60,\n",
       "  61,\n",
       "  62,\n",
       "  63,\n",
       "  64,\n",
       "  65,\n",
       "  66,\n",
       "  67,\n",
       "  68,\n",
       "  69,\n",
       "  70,\n",
       "  71,\n",
       "  72,\n",
       "  73,\n",
       "  74,\n",
       "  75,\n",
       "  76,\n",
       "  77,\n",
       "  78,\n",
       "  79,\n",
       "  80,\n",
       "  81,\n",
       "  82,\n",
       "  83,\n",
       "  84,\n",
       "  85,\n",
       "  86,\n",
       "  87,\n",
       "  88,\n",
       "  89,\n",
       "  90,\n",
       "  91,\n",
       "  92,\n",
       "  93,\n",
       "  94,\n",
       "  95,\n",
       "  96,\n",
       "  97,\n",
       "  98,\n",
       "  99,\n",
       "  100,\n",
       "  101,\n",
       "  102,\n",
       "  103,\n",
       "  104]]"
      ]
     },
     "execution_count": 9,
     "metadata": {},
     "output_type": "execute_result"
    }
   ],
   "source": [
    "clusters_pred\n"
   ]
  },
  {
   "cell_type": "code",
   "execution_count": 10,
   "metadata": {
    "collapsed": false
   },
   "outputs": [
    {
     "name": "stdout",
     "output_type": "stream",
     "text": [
      "NMI =  0.524990559979\n",
      "Recall =  0.805337519623\n",
      "Precision =  0.590136054422\n",
      "F1 =  0.761415545577\n",
      "Modularity =  0.447187643009\n",
      "Norm. cut =  0.10444587463\n"
     ]
    }
   ],
   "source": [
    "print \"NMI = \", compute_nmi(labels_true, labels_pred)\n",
    "print \"Recall = \", compute_recall(clusters_true, clusters_pred)\n",
    "print \"Precision = \", compute_precision(clusters_true, clusters_pred)\n",
    "print \"F1 = \", compute_avg_f1(clusters_true, clusters_pred)\n",
    "print \"Modularity = \", compute_modularity(labels_pred, edge_list)\n",
    "print \"Norm. cut = \", compute_normalized_cut(labels_pred, clusters_pred, edge_list)"
   ]
  },
  {
   "cell_type": "code",
   "execution_count": null,
   "metadata": {
    "collapsed": true
   },
   "outputs": [],
   "source": []
  },
  {
   "cell_type": "code",
   "execution_count": null,
   "metadata": {
    "collapsed": true
   },
   "outputs": [],
   "source": []
  },
  {
   "cell_type": "code",
   "execution_count": 5,
   "metadata": {
    "collapsed": false
   },
   "outputs": [],
   "source": [
    "n_nodes = 30\n",
    "p_in = 0.35\n",
    "p_out = 0.15\n",
    "Q = np.array([[p_in, p_out], [p_out, p_in]])\n",
    "z = [0] * (n_nodes / 2) + [1] * (n_nodes / 2)\n",
    "A = np.zeros([n_nodes, n_nodes])\n",
    "for i in xrange(n_nodes):\n",
    "    for j in xrange(n_nodes):\n",
    "        A[i, j] = np.random.binomial(1, Q[z[i], z[j]], 1) \n",
    "        A[j, i] = A[i, j]\n",
    "    A[i, i] = 0\n",
    "\n",
    "save_graph(A, 'sbm')\n",
    "save_labels(z, 'sbm_labels')\n"
   ]
  },
  {
   "cell_type": "code",
   "execution_count": null,
   "metadata": {
    "collapsed": true
   },
   "outputs": [],
   "source": []
  }
 ],
 "metadata": {
  "kernelspec": {
   "display_name": "Python 2",
   "language": "python",
   "name": "python2"
  },
  "language_info": {
   "codemirror_mode": {
    "name": "ipython",
    "version": 2
   },
   "file_extension": ".py",
   "mimetype": "text/x-python",
   "name": "python",
   "nbconvert_exporter": "python",
   "pygments_lexer": "ipython2",
   "version": "2.7.12"
  }
 },
 "nbformat": 4,
 "nbformat_minor": 0
}
